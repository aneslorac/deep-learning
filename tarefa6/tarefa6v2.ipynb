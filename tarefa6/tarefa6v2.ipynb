{
 "cells": [
  {
   "cell_type": "code",
   "execution_count": null,
   "metadata": {},
   "outputs": [],
   "source": []
  },
  {
   "cell_type": "code",
   "execution_count": 1,
   "metadata": {},
   "outputs": [
    {
     "name": "stderr",
     "output_type": "stream",
     "text": [
      "2023-01-07 03:47:19.054338: I tensorflow/stream_executor/platform/default/dso_loader.cc:53] Successfully opened dynamic library libcudart.so.11.0\n",
      "WARNING: CPU random generator seem to be failing, disabling hardware random number generation\n",
      "WARNING: RDRND generated: 0xffffffff 0xffffffff 0xffffffff 0xffffffff\n"
     ]
    }
   ],
   "source": [
    "import numpy as np\n",
    "import matplotlib.pyplot as plt\n",
    "import matplotlib\n",
    "import tensorflow as tf\n",
    "import cairo\n",
    "import cv2 as cv\n",
    "from tensorflow.keras.preprocessing.image import ImageDataGenerator\n",
    "%matplotlib inline\n",
    "\n",
    "# reproducibility\n",
    "np.random.seed(0)"
   ]
  },
  {
   "cell_type": "code",
   "execution_count": 2,
   "metadata": {},
   "outputs": [],
   "source": [
    "def getImageLabels(masks):\n",
    "    \n",
    "    labels = np.zeros((masks.shape[0], masks.shape[1], masks.shape[2], 4), dtype=np.uint8)\n",
    "\n",
    "    for i in range(0, masks.shape[0]):\n",
    "      \n",
    "      mask_0 = (masks[i] == [  0,  0,  0]).all(axis=2) # backgroud = 0\n",
    "      mask_1 = (masks[i] >  [100,  0,  0]).all(axis=2) # rectangle = 1\n",
    "      mask_2 = (masks[i] >  [  0,100,  0]).all(axis=2) # circle    = 2\n",
    "      mask_3 = (masks[i] >  [  0,  0,100]).all(axis=2) # triangle  = 3\n",
    "      \n",
    "      labels[i][mask_0, 0] = 1\n",
    "      labels[i][mask_1, 1] = 1 \n",
    "      labels[i][mask_2, 2] = 1\n",
    "      labels[i][mask_3, 3] = 1\n",
    "      \n",
    "    return labels"
   ]
  },
  {
   "cell_type": "code",
   "execution_count": 3,
   "metadata": {},
   "outputs": [],
   "source": [
    "def normalize_dataset(imgs):\n",
    "  X = imgs / 255.\n",
    "  return X"
   ]
  },
  {
   "cell_type": "code",
   "execution_count": 4,
   "metadata": {},
   "outputs": [],
   "source": [
    "def split_dataset(X, y, train_ratio = 0.8):\n",
    "  num_imgs = X.shape[0]\n",
    "  i = int(train_ratio * num_imgs)\n",
    "  train_X = X[:i]\n",
    "  test_X = X[i:]\n",
    "  train_y = y[:i]\n",
    "  test_y = y[i:]\n",
    "  return train_X, test_X, train_y, test_y"
   ]
  },
  {
   "cell_type": "code",
   "execution_count": 5,
   "metadata": {},
   "outputs": [],
   "source": [
    "def show_image(imgs):\n",
    "  plt.figure(figsize=(8,4))\n",
    "  plt.subplot(1, 2, 1)\n",
    "  img_size = imgs[0].shape[0]\n",
    "  plt.imshow(imgs[0], interpolation='none', origin='lower', extent=[0, img_size, 0, img_size])"
   ]
  },
  {
   "cell_type": "code",
   "execution_count": 6,
   "metadata": {},
   "outputs": [],
   "source": [
    "def apply_grayscale(img):\n",
    "    gray = cv.cvtColor(img, cv.COLOR_BGR2GRAY)\n",
    "    cv.imshow('gray', gray)\n",
    "    show_image([gray])"
   ]
  },
  {
   "cell_type": "code",
   "execution_count": 7,
   "metadata": {},
   "outputs": [],
   "source": [
    "def apply_zoom(img, scale):\n",
    "    height, width, channels = img.shape\n",
    "    print(height, width, channels)\n",
    "\n",
    "    #prepare the crop\n",
    "    centerX,centerY=int(height/2),int(width/2)\n",
    "    radiusX,radiusY= int(scale*height/100),int(scale*width/100)\n",
    "\n",
    "    minX,maxX=centerX-radiusX,centerX+radiusX\n",
    "    minY,maxY=centerY-radiusY,centerY+radiusY\n",
    "\n",
    "    print(minX,maxX)\n",
    "    print(minY,maxY)\n",
    "\n",
    "    cropped = img[minX:maxX, minY:maxY]\n",
    "    print(cropped)\n",
    "    resized_cropped = cv.resize(cropped, (width, height))\n",
    "\n",
    "    cv.imshow('zoom', resized_cropped)\n",
    "    show_image([resized_cropped])"
   ]
  },
  {
   "cell_type": "code",
   "execution_count": 8,
   "metadata": {},
   "outputs": [],
   "source": [
    "def apply_brightness(img, value):\n",
    "    hsv = cv.cvtColor(img, cv.COLOR_BGR2HSV)\n",
    "    h, s, v = cv.split(hsv)\n",
    "\n",
    "    lim = 255 - value\n",
    "    v[v > lim] = 255\n",
    "    v[v <= lim] += value\n",
    "\n",
    "    final_hsv = cv.merge((h, s, v))\n",
    "    img = cv.cvtColor(final_hsv, cv.COLOR_HSV2BGR)\n",
    "\n",
    "    cv.imshow('brightness', img)\n",
    "    show_image([img])\n",
    "    return img"
   ]
  },
  {
   "cell_type": "code",
   "execution_count": 9,
   "metadata": {},
   "outputs": [],
   "source": [
    "def data_augmentation(img):\n",
    "\n",
    "    \n",
    "    pass"
   ]
  },
  {
   "cell_type": "code",
   "execution_count": 10,
   "metadata": {},
   "outputs": [],
   "source": [
    "\n",
    "\n",
    "def display_mask(mask):\n",
    "  mask = np.argmax(mask, axis=-1) # (32, 32, n_classes) > (32, 32)\n",
    "  plt.imshow(np.squeeze(mask), cmap=\"Greys\", interpolation='none', origin='lower', extent=[0, 32, 0, 32])\n",
    "\n",
    "def display(imgs, masks):\n",
    "  img_size = imgs[0].shape[0]\n",
    "  plt.figure(figsize=(16, 8))\n",
    "\n",
    "  for i, i_subplot in enumerate(range(1, 5)):\n",
    "    plt.subplot(2, 4, i_subplot)\n",
    "    plt.imshow(imgs[i], interpolation='none', origin='lower', extent=[0, img_size, 0, img_size])\n",
    "\n",
    "  for i, i_subplot in enumerate(range(5, 9)): \n",
    "    plt.subplot(2, 4, i_subplot)\n",
    "    mask = np.argmax(masks[i], axis=-1) \n",
    "    plt.imshow(np.squeeze(mask), cmap=\"Greys\", interpolation='none', origin='lower', extent=[0, 32, 0, 32])\n",
    "\n",
    "    plt.axis('off')\n",
    "\n",
    "  plt.show()"
   ]
  },
  {
   "cell_type": "code",
   "execution_count": 11,
   "metadata": {},
   "outputs": [],
   "source": [
    "def multiple_shape_dataset(num_imgs = 100, num_objects = 5, img_size = 32, min_object_size = 4, max_object_size = 16):\n",
    "\n",
    "  imgs = np.zeros((num_imgs, img_size, img_size, 4), dtype=np.uint8)  # format: BGRA\n",
    "  masks = np.zeros((num_imgs, img_size, img_size, 4), dtype=np.uint8)  # format: BGRA\n",
    "\n",
    "  num_shapes = 3\n",
    "  shape_labels = ['rectangle', 'circle', 'triangle']\n",
    "  \n",
    "  num_colors = 3\n",
    "  color_labels = ['r', 'g', 'b']\n",
    "  \n",
    "\n",
    "  for i_img in range(num_imgs):\n",
    "\n",
    "    colors = [tuple(np.random.random(size=3)) for i in range(0,3)]\n",
    "    \n",
    "    # cairo imgs\n",
    "    surface_img = cairo.ImageSurface.create_for_data(imgs[i_img], cairo.FORMAT_RGB24, img_size, img_size)\n",
    "    cr_img = cairo.Context(surface_img)\n",
    "    cr_img.set_source_rgb(0, 0, 0) # Fill background white.\n",
    "    cr_img.paint()\n",
    "\n",
    "    # cairo mask\n",
    "    surface_mask = cairo.ImageSurface.create_for_data(masks[i_img], cairo.FORMAT_RGB24, img_size, img_size)\n",
    "    cr_mask = cairo.Context(surface_mask)\n",
    "    cr_mask.get_source().set_extend(cairo.EXTEND_REPEAT)\n",
    "\n",
    "    cr_mask.set_source_rgb(0, 0, 0) # Fill background black.\n",
    "    cr_mask.paint()\n",
    "\n",
    "    # Draw random shapes.\n",
    "    for i_object in range(num_objects):\n",
    "      shape = np.random.randint(num_shapes)\n",
    "\n",
    "      if shape == 0:  # rectangle\n",
    "          w, h = np.random.randint(min_object_size, max_object_size, size=2)\n",
    "          x = np.random.randint(0, img_size - w)\n",
    "          y = np.random.randint(0, img_size - h)\n",
    "\n",
    "          cr_img.rectangle(x, y, w, h)\n",
    "          cr_img.set_source_rgb(*colors[0]) # red\n",
    "\n",
    "      elif shape == 1:  # circle   \n",
    "          r = 0.5 * np.random.randint(min_object_size, max_object_size)\n",
    "          x = np.random.randint(r, img_size - r)\n",
    "          y = np.random.randint(r, img_size - r)\n",
    "\n",
    "          cr_img.arc(x, y, r, 0, 2*np.pi)\n",
    "          cr_img.set_source_rgb(*colors[1]) # green\n",
    "\n",
    "      elif shape == 2:  # triangle\n",
    "          w, h = np.random.randint(min_object_size, max_object_size, size=2)\n",
    "          x = np.random.randint(0, img_size - w)\n",
    "          y = np.random.randint(0, img_size - h)\n",
    "\n",
    "          cr_img.move_to(x, y)\n",
    "          cr_img.line_to(x+w, y)\n",
    "          cr_img.line_to(x+w, y+h)\n",
    "          cr_img.line_to(x, y)\n",
    "          cr_img.close_path()\n",
    "\n",
    "          cr_img.set_source_rgb(*colors[2]) # blue\n",
    "\n",
    "      cr_img.fill()\n",
    "\n",
    "  imgs = imgs[..., 2::-1]  # is BGRA, convert to RGB\n",
    "\n",
    "  #show_image(imgs)\n",
    "  #apply_brightness(imgs[0], 60)\n",
    "  #apply_zoom(imgs[0], 0.9)\n",
    "  #apply_grayscale(imgs[0])\n",
    "  masks = getImageLabels(imgs) # generations of masks from images\n",
    "  imgs = normalize_dataset(imgs) # normalization of pixels values\n",
    "\n",
    "  return imgs, masks"
   ]
  },
  {
   "cell_type": "code",
   "execution_count": null,
   "metadata": {},
   "outputs": [],
   "source": []
  },
  {
   "cell_type": "code",
   "execution_count": 12,
   "metadata": {},
   "outputs": [],
   "source": [
    "# create dataset\n",
    "imgs, masks = multiple_shape_dataset(num_imgs = 5, num_objects = 5, img_size = 32, min_object_size = 4, max_object_size = 16)"
   ]
  },
  {
   "cell_type": "code",
   "execution_count": 13,
   "metadata": {},
   "outputs": [
    {
     "data": {
      "image/png": "[encoded data removed]",
      "text/plain": [
       "<Figure size 1600x800 with 8 Axes>"
      ]
     },
     "metadata": {},
     "output_type": "display_data"
    }
   ],
   "source": [
    "display(imgs, masks)"
   ]
  },
  {
   "cell_type": "code",
   "execution_count": 14,
   "metadata": {},
   "outputs": [
    {
     "data": {
      "text/plain": [
       "'tensorflow'"
      ]
     },
     "execution_count": 14,
     "metadata": {},
     "output_type": "execute_result"
    }
   ],
   "source": [
    "# import libs\n",
    "from tensorflow.keras.models import Sequential, Model\n",
    "from tensorflow.keras.layers import Input, Dense, Add, Activation, Dropout, Convolution2D, Conv2D, MaxPooling2D, Flatten, Conv2DTranspose, Reshape, Lambda, concatenate\n",
    "\n",
    "import tensorflow.keras.backend as K\n",
    "K.backend()"
   ]
  },
  {
   "cell_type": "code",
   "execution_count": 15,
   "metadata": {},
   "outputs": [],
   "source": [
    "#build the model\n",
    "def model_segmentation(n_classes, img_shape):\n",
    "    model = Sequential()\n",
    "\n",
    "    inputs = Input(shape=img_shape) ## 224,224,3 ## \n",
    "\n",
    "    c1 = Conv2D(32, (3, 3), activation='elu', padding='same') (inputs) \n",
    "    c1 = Dropout(0.2) (c1)\n",
    "    c1 = Conv2D(32, (3, 3), activation='elu', padding='same') (c1)\n",
    "\n",
    "    p1 = MaxPooling2D((2, 2)) (c1) # downsampling\n",
    "\n",
    "    c2 = Conv2D(64, (3, 3), activation='elu', padding='same') (p1)\n",
    "    c2 = Dropout(0.4) (c2)\n",
    "    c2 = Conv2D(64, (3, 3), activation='elu', padding='same') (c2)\n",
    "\n",
    "    u1 = Conv2DTranspose(32, (3, 3), strides=(2, 2), padding='same') (c2) # upsampling\n",
    "\n",
    "    u1 = Add()([u1, c1]) # skip connections\n",
    "\n",
    "    c3 = Conv2D(32, (3, 3), activation='elu', padding='same') (u1)\n",
    "    c3 = Dropout(0.2) (c3)\n",
    "    c3 = Conv2D(32, (3, 3), activation='elu', padding='same') (c3)\n",
    "\n",
    "    output = Conv2D(n_classes, (3, 3), activation='softmax', padding='same')(c3)\n",
    "\n",
    "    model = Model(inputs, output)\n",
    "\n",
    "    model.summary()\n",
    "\n",
    "    return model"
   ]
  },
  {
   "cell_type": "code",
   "execution_count": 16,
   "metadata": {},
   "outputs": [],
   "source": [
    "# create dataset\n",
    "imgs, masks = multiple_shape_dataset(num_imgs = 5000, num_objects = 5, img_size = 32, min_object_size = 4, max_object_size = 16)"
   ]
  },
  {
   "cell_type": "code",
   "execution_count": null,
   "metadata": {},
   "outputs": [],
   "source": [
    "# holdout: 0.8 for training\n",
    "train_X, test_X, train_y, test_y = split_dataset(imgs, masks)\n",
    "train_X.shape, train_y.shape"
   ]
  },
  {
   "cell_type": "code",
   "execution_count": 20,
   "metadata": {},
   "outputs": [
    {
     "data": {
      "image/png": "[encoded data removed]",
      "text/plain": [
       "<Figure size 800x400 with 1 Axes>"
      ]
     },
     "metadata": {},
     "output_type": "display_data"
    }
   ],
   "source": [
    "index = 0\n",
    "show_image(imgs)"
   ]
  },
  {
   "cell_type": "code",
   "execution_count": 21,
   "metadata": {},
   "outputs": [
    {
     "data": {
      "image/png": "[encoded data removed]",
      "text/plain": [
       "<Figure size 640x480 with 1 Axes>"
      ]
     },
     "metadata": {},
     "output_type": "display_data"
    }
   ],
   "source": [
    "display_mask(masks[index])"
   ]
  },
  {
   "cell_type": "code",
   "execution_count": 26,
   "metadata": {},
   "outputs": [
    {
     "name": "stdout",
     "output_type": "stream",
     "text": [
      "Model: \"model_4\"\n",
      "__________________________________________________________________________________________________\n",
      "Layer (type)                    Output Shape         Param #     Connected to                     \n",
      "==================================================================================================\n",
      "input_5 (InputLayer)            [(None, 32, 32, 3)]  0                                            \n",
      "__________________________________________________________________________________________________\n",
      "conv2d_28 (Conv2D)              (None, 32, 32, 32)   896         input_5[0][0]                    \n",
      "__________________________________________________________________________________________________\n",
      "dropout_12 (Dropout)            (None, 32, 32, 32)   0           conv2d_28[0][0]                  \n",
      "__________________________________________________________________________________________________\n",
      "conv2d_29 (Conv2D)              (None, 32, 32, 32)   9248        dropout_12[0][0]                 \n",
      "__________________________________________________________________________________________________\n",
      "max_pooling2d_4 (MaxPooling2D)  (None, 16, 16, 32)   0           conv2d_29[0][0]                  \n",
      "__________________________________________________________________________________________________\n",
      "conv2d_30 (Conv2D)              (None, 16, 16, 64)   18496       max_pooling2d_4[0][0]            \n",
      "__________________________________________________________________________________________________\n",
      "dropout_13 (Dropout)            (None, 16, 16, 64)   0           conv2d_30[0][0]                  \n",
      "__________________________________________________________________________________________________\n",
      "conv2d_31 (Conv2D)              (None, 16, 16, 64)   36928       dropout_13[0][0]                 \n",
      "__________________________________________________________________________________________________\n",
      "conv2d_transpose_4 (Conv2DTrans (None, 32, 32, 32)   18464       conv2d_31[0][0]                  \n",
      "__________________________________________________________________________________________________\n",
      "add_4 (Add)                     (None, 32, 32, 32)   0           conv2d_transpose_4[0][0]         \n",
      "                                                                 conv2d_29[0][0]                  \n",
      "__________________________________________________________________________________________________\n",
      "conv2d_32 (Conv2D)              (None, 32, 32, 32)   9248        add_4[0][0]                      \n",
      "__________________________________________________________________________________________________\n",
      "dropout_14 (Dropout)            (None, 32, 32, 32)   0           conv2d_32[0][0]                  \n",
      "__________________________________________________________________________________________________\n",
      "conv2d_33 (Conv2D)              (None, 32, 32, 32)   9248        dropout_14[0][0]                 \n",
      "__________________________________________________________________________________________________\n",
      "conv2d_34 (Conv2D)              (None, 32, 32, 4)    1156        conv2d_33[0][0]                  \n",
      "==================================================================================================\n",
      "Total params: 103,684\n",
      "Trainable params: 103,684\n",
      "Non-trainable params: 0\n",
      "__________________________________________________________________________________________________\n",
      "Epoch 1/3\n",
      "72/72 [==============================] - 1s 8ms/step - loss: 1.4644 - val_loss: 1.4152\n",
      "Epoch 2/3\n",
      "72/72 [==============================] - 0s 7ms/step - loss: 10.9944 - val_loss: 5.7581\n",
      "Epoch 3/3\n",
      "72/72 [==============================] - 0s 7ms/step - loss: 100772310859907072.0000 - val_loss: 1.6374\n"
     ]
    },
    {
     "data": {
      "text/plain": [
       "<tensorflow.python.keras.callbacks.History at 0x7f7b29601880>"
      ]
     },
     "execution_count": 26,
     "metadata": {},
     "output_type": "execute_result"
    }
   ],
   "source": [
    "model = model_segmentation(n_classes=4, img_shape=(32,32,3))\n",
    "model.compile('sgd', 'categorical_crossentropy')\n",
    "model.fit(train_data, epochs=3, batch_size=32, validation_data=val_data)"
   ]
  },
  {
   "cell_type": "code",
   "execution_count": 27,
   "metadata": {},
   "outputs": [
    {
     "ename": "AttributeError",
     "evalue": "'NumpyArrayIterator' object has no attribute 'classes'",
     "output_type": "error",
     "traceback": [
      "\u001b[0;31m---------------------------------------------------------------------------\u001b[0m",
      "\u001b[0;31mAttributeError\u001b[0m                            Traceback (most recent call last)",
      "\u001b[0;32m/tmp/ipykernel_117913/829936220.py\u001b[0m in \u001b[0;36m<cell line: 3>\u001b[0;34m()\u001b[0m\n\u001b[1;32m      1\u001b[0m \u001b[0mtest_y_predicted\u001b[0m \u001b[0;34m=\u001b[0m \u001b[0mmodel\u001b[0m\u001b[0;34m.\u001b[0m\u001b[0mpredict\u001b[0m\u001b[0;34m(\u001b[0m\u001b[0mtest_data\u001b[0m\u001b[0;34m)\u001b[0m\u001b[0;34m\u001b[0m\u001b[0;34m\u001b[0m\u001b[0m\n\u001b[1;32m      2\u001b[0m \u001b[0;34m\u001b[0m\u001b[0m\n\u001b[0;32m----> 3\u001b[0;31m \u001b[0mdisplay\u001b[0m\u001b[0;34m(\u001b[0m\u001b[0mtest_data\u001b[0m\u001b[0;34m.\u001b[0m\u001b[0mclasses\u001b[0m\u001b[0;34m,\u001b[0m \u001b[0mtest_y_predicted\u001b[0m\u001b[0;34m)\u001b[0m\u001b[0;34m\u001b[0m\u001b[0;34m\u001b[0m\u001b[0m\n\u001b[0m",
      "\u001b[0;31mAttributeError\u001b[0m: 'NumpyArrayIterator' object has no attribute 'classes'"
     ]
    }
   ],
   "source": [
    "test_y_predicted = model.predict(test_data)\n",
    "\n",
    "display(test_data.classes, test_y_predicted)"
   ]
  },
  {
   "cell_type": "code",
   "execution_count": null,
   "metadata": {},
   "outputs": [],
   "source": [
    "# mIoU\n",
    "import tensorflow as tf \n",
    "mIoU = tf.keras.metrics.MeanIoU(num_classes=4)\n",
    "\n",
    "flatted_y_predicted = test_y_predicted.flatten()\n",
    "flatted_y = test_data.flatten()\n",
    "\n",
    "mIoU.update_state(test_data, flatted_y_predicted)\n",
    "mIoU.result().numpy()"
   ]
  }
 ],
 "metadata": {
  "kernelspec": {
   "display_name": "Python 3",
   "language": "python",
   "name": "python3"
  },
  "language_info": {
   "codemirror_mode": {
    "name": "ipython",
    "version": 3
   },
   "file_extension": ".py",
   "mimetype": "text/x-python",
   "name": "python",
   "nbconvert_exporter": "python",
   "pygments_lexer": "ipython3",
   "version": "3.8.10 (default, Nov 14 2022, 12:59:47) \n[GCC 9.4.0]"
  },
  "orig_nbformat": 4,
  "vscode": {
   "interpreter": {
    "hash": "916dbcbb3f70747c44a77c7bcd40155683ae19c65e1c03b4aa3499c5328201f1"
   }
  }
 },
 "nbformat": 4,
 "nbformat_minor": 2
}
